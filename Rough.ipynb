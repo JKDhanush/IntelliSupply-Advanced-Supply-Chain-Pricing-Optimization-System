{
 "cells": [
  {
   "cell_type": "code",
   "execution_count": 1,
   "id": "5e1a5797-9d47-4ed0-844d-c2d9dc3ce294",
   "metadata": {},
   "outputs": [
    {
     "name": "stdout",
     "output_type": "stream",
     "text": [
      "\n",
      "📂 File: calendar.csv\n",
      "🧾 Columns: ['date', 'day_of_week', 'day_number', 'is_weekend', 'is_festival', 'holiday', 'season', 'month', 'week_of_year']\n",
      "\n",
      "📂 File: inventory.csv\n",
      "🧾 Columns: ['product_id', 'current_stock', 'reorder_level', 'expiry_date', 'days_to_expire']\n",
      "\n",
      "📂 File: orders.csv\n",
      "🧾 Columns: ['order_id', 'product_id', 'order_date', 'quantity_ordered', 'expected_delivery_date', 'actual_delivery_date', 'delay_days']\n",
      "\n",
      "📂 File: pricing.csv\n",
      "🧾 Columns: ['price_id', 'product_id', 'date', 'price', 'discount', 'competitor_price', 'profit_margin']\n",
      "\n",
      "📂 File: product.csv\n",
      "🧾 Columns: ['product_id', 'product_name', 'category', 'unit', 'cost_price', 'shelf_life_days', 'batch', 'supplier_id']\n",
      "\n",
      "📂 File: sales.csv\n",
      "🧾 Columns: ['sales_id', 'date', 'product_id', 'units_sold', 'price', 'discount']\n",
      "\n",
      "📂 File: supplier.csv\n",
      "🧾 Columns: ['supplier_id', 'supplier_name', 'contact_email', 'default_lead_days', 'avg_delivery_delay', 'on_time_delivery_rate', 'quality_score', 'return_rate', 'min_order_quantity', 'supply_cost_index', 'preferred']\n"
     ]
    }
   ],
   "source": [
    "import pandas as pd\n",
    "import os\n",
    "\n",
    "dataset_path = \"Datasets\"\n",
    "\n",
    "# Loop through each CSV in the folder\n",
    "for filename in os.listdir(dataset_path):\n",
    "    if filename.endswith(\".csv\"):\n",
    "        file_path = os.path.join(dataset_path, filename)\n",
    "        try:\n",
    "            df = pd.read_csv(file_path)\n",
    "            print(f\"\\n📂 File: {filename}\")\n",
    "            print(f\"🧾 Columns: {df.columns.tolist()}\")\n",
    "        except Exception as e:\n",
    "            print(f\"\\n❌ Error loading {filename}: {e}\")\n"
   ]
  },
  {
   "cell_type": "code",
   "execution_count": null,
   "id": "e0bc77f0-efdd-447f-af90-0d73ea763b3a",
   "metadata": {},
   "outputs": [],
   "source": []
  }
 ],
 "metadata": {
  "kernelspec": {
   "display_name": "Python 3 (ipykernel)",
   "language": "python",
   "name": "python3"
  },
  "language_info": {
   "codemirror_mode": {
    "name": "ipython",
    "version": 3
   },
   "file_extension": ".py",
   "mimetype": "text/x-python",
   "name": "python",
   "nbconvert_exporter": "python",
   "pygments_lexer": "ipython3",
   "version": "3.10.11"
  }
 },
 "nbformat": 4,
 "nbformat_minor": 5
}
